{
 "cells": [
  {
   "cell_type": "markdown",
   "id": "53a515fc",
   "metadata": {},
   "source": [
    "## ML-Assignment_4"
   ]
  },
  {
   "cell_type": "markdown",
   "id": "9e629c1d",
   "metadata": {},
   "source": [
    "### Q1.What are the key tasks involved in getting ready to work with machine learning modeling?"
   ]
  },
  {
   "cell_type": "markdown",
   "id": "6116bd8d",
   "metadata": {},
   "source": [
    "### Ans. Key Tasks Involved in Machine Learning Modeling\n",
    "\n",
    "\n",
    "- Step 1: Collect Data.\n",
    "- Step 2: Prepare the data.\n",
    "- Step 3: Choose the model.\n",
    "- Step 4 Train your machine model.\n",
    "- Step 5: Evaluation. \n",
    "- Step 6: Parameter Tuning. \n",
    "- Step 7: Prediction \n"
   ]
  },
  {
   "cell_type": "markdown",
   "id": "da698ce7",
   "metadata": {},
   "source": [
    "### .Q2. What are the different forms of data used in machine learning? Give a specific example for each of them\n"
   ]
  },
  {
   "cell_type": "markdown",
   "id": "e4133914",
   "metadata": {},
   "source": [
    "### Ans.\n",
    "\n",
    "- Different form of Data Used  in ML.\n",
    " \n",
    "  1. Numerical Data\n",
    "     - Numerical data can be characterized by continuous or discrete data.\n",
    "     \n",
    "        -Example of Continuous Data:\n",
    "           a.Height\n",
    "           b.Weight\n",
    "           c.Salary\n",
    "           d.Temp.\n",
    "           e.Interest Rates\n",
    "        -Example of Discrete Data:\n",
    "           a.No.of students in class\n",
    "           b.No.of Childerns in class\n",
    "           c.No.of Countries\n",
    "           d.Units Sold\n",
    "           \n",
    "  2. Categorica Data\n",
    "  \n",
    "     - Categorical data can be characterized by Ordinal or Nominal data.\n",
    "     \n",
    "        -Example of Ordinal Data:\n",
    "           a.Ranking of Students\n",
    "           b.socio economic status \n",
    "           c.income level\n",
    "           d.education level\n",
    "    \n",
    "        -Example of Nominal Data:\n",
    "           a.Phone No.\n",
    "           b.Blood Group\n",
    "           c.Countries Name\n",
    "           d.Gender\n",
    "           e.Race\n",
    "           \n",
    "           \n",
    "     3. Time series data is a sequence of numbers collected at regular intervals over some period of time.\n",
    "  \n",
    "        - Example of Time series Data\n",
    "               a. Heights of ocean tides.\n",
    "               b. Counts of sunspots\n",
    "               c.Estimate Sales Revenue \n",
    "           \n",
    "     \n",
    "   "
   ]
  },
  {
   "cell_type": "markdown",
   "id": "3675fbcd",
   "metadata": {},
   "source": [
    "### Q3.Distinguish:\n",
    "\n",
    "1. Numeric vs. categorical attributes\n",
    "\n",
    "2. Feature selection vs. dimensionality reduction\n"
   ]
  },
  {
   "cell_type": "markdown",
   "id": "f7f95bb5",
   "metadata": {},
   "source": [
    "### Ans.3.(1)\n",
    "Numerical data \n",
    "\n",
    "1. \n",
    "Numerical data attributes obtained for quantitative variable, and are always numbers or symbols carrying a numerical value. \n",
    "2. \n",
    "Numerical data always belong to either ordinal or  ratio\n",
    "3. \n",
    "Numerical data are  using statistical methods in descriptive statistics, regression, time series and many more.\n",
    "4.\n",
    "Numerical data is mostly used for calculation problems in statistics due to its ability to perform arithmetic operations\n",
    "5.\n",
    "Numerical data is  rigorously dependent on the analyst's perspective.\n",
    "\n",
    "\n",
    "\n",
    "Categorical data\n",
    "\n",
    "1. \n",
    "Categorical data attributes values obtained for a qualitative variable; categorical data numbers do not carry a sense of magnitude.\n",
    "2. \n",
    "categorical data belong to nominal type or ordinal type\n",
    "3. \n",
    "categorical data usually employed descriptive methods and graphical methods. \n",
    "4.\n",
    "Categorical data, on the other hand, is mostly used for performing research that requires the use of respondent's personal information, opinion, etc.\n",
    "5.\n",
    "Categorical data catches human feelings to a degree through open-finished inquiries.\n",
    "\n",
    "\n",
    "\n",
    "\n",
    "\n",
    "### Ans.3.(2)\n",
    "\n",
    "Feature selection \n",
    "\n",
    "**Feature selection yields a subset of features from the original set of features, which are best agents of the data.**\n",
    "\n",
    "- In text data, features may be size of characters or some global features of the text. Feature determination will keep only certain features of those.\n",
    "\n",
    "\n",
    "- Feature selection is done in the context of an optimization problem.\n",
    "\n",
    "Dimensionality reduction\n",
    "\n",
    "- **Dimensionality decrease is conventional and just relies upon the information and not on how you intend to manage it.**\n",
    "\n",
    "- **Assuming a classification problem you select the features that will assist you with ordering your data better, while a dimensionality reduction algorithm is unaware of this and just projects the data into a lower dimensionality space. That thus can function admirably or not for your classification algorithm.**\n"
   ]
  },
  {
   "cell_type": "markdown",
   "id": "e68dfa5d",
   "metadata": {},
   "source": [
    "### Q4. Make quick notes on any two of the following:\n",
    "\n"
   ]
  },
  {
   "cell_type": "markdown",
   "id": "c24aa4fd",
   "metadata": {},
   "source": [
    "### Ans4.\n",
    "1. The histogram\n",
    "\n",
    "- A histogram is a chart that shows frequencies for time periods of values of a metric variable. Such time periods as known as “bins” and they all have similar widths. \n",
    "\n",
    "- A histogram is a bar graph-like representation of data that buckets a range of outcomes into columns along the x-axis.\n",
    "\n",
    "- The y-axis represents the number count or percentage of events in the data for each column and can be used to visualize data dispersions.\n",
    "\n",
    " \n",
    "\n",
    "\n",
    "\n",
    "\n",
    "2. Use a scatter plot\n",
    "\n",
    "- Scatter plots' essential uses are to notice and show connections between two numeric  variables. \n",
    "\n",
    "- Scatter plots are used to plot data points on a horizontal and a vertical axis in the attempt to show how much ne variable is influenced by another. \n",
    "\n",
    "- In Scatter Plot third variable can be set to compare to the color or size of the markers, accordingly adding one more dimension to the plot.\n",
    "\n",
    "\n",
    "\n",
    "\n"
   ]
  },
  {
   "cell_type": "markdown",
   "id": "b6be67de",
   "metadata": {},
   "source": [
    "### Q5. . Why is it necessary to investigate data? Is there a discrepancy in how qualitative and quantitative data are explored?\n"
   ]
  },
  {
   "cell_type": "markdown",
   "id": "d508676a",
   "metadata": {},
   "source": [
    "### Ans.\n",
    "\n",
    "- Data investigation is necessary  to understand problems facing an organisation, and to explore data in meaningful ways. \n",
    "\n",
    "\n",
    "**Yes there is a discrepancy in exploration of qualitative and quantitative data.**\n",
    "\n",
    "    1.\n",
    "    - In method of Data Collection\n",
    "    2.\n",
    "    - When,where and how to use qualitative vs. quantitative approach\n",
    "    3.\n",
    "    - Method of analyze qualitative and quantitative data"
   ]
  },
  {
   "cell_type": "markdown",
   "id": "7255ae03",
   "metadata": {},
   "source": [
    "### Q6. What are the various histogram shapes? What exactly are ‘bins'?\n",
    "\n",
    "\n",
    "\n",
    "\n",
    "\n"
   ]
  },
  {
   "cell_type": "markdown",
   "id": "cafc7fbc",
   "metadata": {},
   "source": [
    "### Ans.\n",
    "\n",
    "1. Bell-Shaped\n",
    "- A histogram is bell-shaped if it resembles a “bell” curve and has one single peak in the middle of the distribution. The most widely recognized genuine illustration of this kind of distribution is the normal distribution.\n",
    "\n",
    "2. Uniform\n",
    "- A histogram is portrayed as \"uniform\" if each worth in a dataset happens generally similar number of times. This kind of histogram regularly resembles like a rectangle with no clear peaks.\n",
    "\n",
    "3. Bimodal\n",
    "- A histogram is described as “bimodal” if it has two distinct peaks.This type of distribution has multiple modes – that is, multiple values happen most as often as possible in the dataset. \n",
    "\n",
    "\n",
    "4. Multimodal\n",
    "- A histogram is described as “multimodal” if it has more than two distinct peaks.\n",
    "\n",
    "5. Left Skewed\n",
    "- A histogram is left skewed if it has a “tail” on the left side of the distribution. Sometimes this type of distribution is also called “negatively” skewed.\n",
    "\n",
    "6. Right Skewed\n",
    "- A histogram is right skewed if it has a “tail” on the right side of the distribution. Sometimes this type of distribution is also called “positively” skewed.\n",
    "\n",
    "7. Random\n",
    "- The shape of a distribution can be described as “random” if there is no clear pattern in the data at all."
   ]
  },
  {
   "cell_type": "markdown",
   "id": "8001bf10",
   "metadata": {},
   "source": [
    "### Q7.How do we deal with data outliers?"
   ]
  },
  {
   "cell_type": "markdown",
   "id": "6b071254",
   "metadata": {},
   "source": [
    "### Ans.\n",
    "There are three different methods of dealing with outliers:\n",
    "\n",
    "- Univariate method: This method looks for data points with extreme values on one variable.\n",
    "- Multivariate method: Here, we look for unusual combinations of all the variables.\n",
    "- Minkowski error: This method reduces the contribution of potential outliers in the training process.\n",
    "\n",
    "\n",
    "Method to Remove Outliers:\n",
    "\n",
    "- Z-Score\n",
    "- IQR(Inter Quantile Range)\n"
   ]
  },
  {
   "cell_type": "markdown",
   "id": "5f894ca2",
   "metadata": {},
   "source": [
    "### Q8.. What are the various central inclination measures? Why does mean vary too much from median in certain data sets?"
   ]
  },
  {
   "cell_type": "markdown",
   "id": "d5b5ec92",
   "metadata": {},
   "source": [
    "### Ans8.\n",
    "\n",
    "There are three main measures of central tendency: \n",
    "- Mode\n",
    "- Median \n",
    "- Mean.\n",
    "\n",
    "\n",
    "Mean vary too much from median in certain data sets because the mean is not a robust tool since it is largely influenced by outliers where as The median is better suited for skewed distributions to derive at central tendency since it is much more robust and sensible to Outliers"
   ]
  },
  {
   "cell_type": "markdown",
   "id": "2f2bb4f3",
   "metadata": {},
   "source": [
    "### Q9. . Describe how a scatter plot can be used to investigate bivariate relationships. Is it possible to find outliers using a scatter plot?"
   ]
  },
  {
   "attachments": {
    "Untitled.jpg": {
     "image/jpeg": "[encoded data removed]"
    }
   },
   "cell_type": "markdown",
   "id": "9a355a37",
   "metadata": {},
   "source": [
    "### Ans9.\n",
    "\n",
    "\n",
    "A scatterplot is frequently utilized to recognize possible relationship between  two variables, where one might be viewed as an explanatory variable (such as years of education) and another may be considered a response variable (such as annual income). \n",
    "\n",
    "\n",
    "    1.\n",
    "    A positive relationship between education and income would be indicated on a scatterplot by a upward trend (positive slope), \n",
    "\n",
    "    2.\n",
    "    Where higher incomes correspond to higher education levels and lower incomes correspond to less no. of years of education. A negative association would be indicated. by a downward trend (negative slope), \n",
    "\n",
    "    3.\n",
    "    where the most highly educated individuals would have lower incomes than the least educated individuals. Or on the other hand, there probably won't be any notable association.\n",
    "\n",
    "\n",
    "\n",
    "\n",
    "The following plots demonstrate the appearance of positively associated, negatively associated, and non-associated variables:\n",
    "\n",
    "![Untitled.jpg](attachment:Untitled.jpg)\n"
   ]
  },
  {
   "cell_type": "markdown",
   "id": "fe3154ba",
   "metadata": {},
   "source": [
    "#### Yes,it is possible to find outliers using a scatter plot if data point doesn't fit the pattern"
   ]
  },
  {
   "cell_type": "markdown",
   "id": "5eb16c5b",
   "metadata": {},
   "source": [
    "### Q10.Describe how cross-tabs can be used to figure out how two variables are related.\n"
   ]
  },
  {
   "cell_type": "markdown",
   "id": "c57faa09",
   "metadata": {},
   "source": [
    "### Ans.\n",
    "\n",
    "- Cross tabulation is a strategy to quantitatively examine the connection between different variables.\n",
    "- Cross tabulation is usually performed on categorical data — data that can be divided into mutually exclusive groups.\n",
    "- Cross tabulations are used to examine relationships within data that may not be readily apparent."
   ]
  },
  {
   "cell_type": "markdown",
   "id": "f01ae3a5",
   "metadata": {},
   "source": [
    "### THE END"
   ]
  }
 ],
 "metadata": {
  "kernelspec": {
   "display_name": "Python 3",
   "language": "python",
   "name": "python3"
  },
  "language_info": {
   "codemirror_mode": {
    "name": "ipython",
    "version": 3
   },
   "file_extension": ".py",
   "mimetype": "text/x-python",
   "name": "python",
   "nbconvert_exporter": "python",
   "pygments_lexer": "ipython3",
   "version": "3.8.5"
  }
 },
 "nbformat": 4,
 "nbformat_minor": 5
}

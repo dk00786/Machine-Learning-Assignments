{
 "cells": [
  {
   "cell_type": "markdown",
   "id": "2e92223a",
   "metadata": {},
   "source": [
    "## ML-Assignment_6"
   ]
  },
  {
   "cell_type": "markdown",
   "id": "5fb30faf",
   "metadata": {},
   "source": [
    "### Q1. In the sense of machine learning, what is a model? What is the best way to train a model?"
   ]
  },
  {
   "cell_type": "markdown",
   "id": "8301fe13",
   "metadata": {},
   "source": [
    "### Ans.\n",
    "- A training model is a dataset that is utilized to prepare a ML calculation. It comprises of the sample output data and the corresponding sets of input data that impact the output.\n",
    "\n",
    "- The training model is used to run the input data through the algorithm to correlate the processed output against the sample output. The result from this correlation is used to modify the model.\n",
    "\n",
    "- This iterative process is called “model fitting”. The accuracy of the training dataset or the validation dataset is critical for the precision of the model.\n"
   ]
  },
  {
   "cell_type": "markdown",
   "id": "69a7f75b",
   "metadata": {},
   "source": [
    "### Q2. In the sense of machine learning, explain the \"No Free Lunch\" theorem.\n"
   ]
  },
  {
   "cell_type": "markdown",
   "id": "54c46c72",
   "metadata": {},
   "source": [
    "### Ans.\n",
    "- The No Free Lunch Theorem, frequently abbreviated as NFL or NFLT, is a hypothetical finding that proposes all optimization algorithms perform similarly well when their performance is averaged over all possible objective functions."
   ]
  },
  {
   "cell_type": "markdown",
   "id": "42f6f0c9",
   "metadata": {},
   "source": [
    "### Q3. Describe the K-fold cross-validation mechanism in detail.achine learning data types."
   ]
  },
  {
   "cell_type": "markdown",
   "id": "a35e8b41",
   "metadata": {},
   "source": [
    "### Ans.\n",
    "k-Fold Cross-Validation\n",
    "Cross-validation is a resampling procedure used to evaluate machine learning models on a limited data sample.\n",
    "\n",
    "The procedure has a single parameter called k that refers to the number of groups that a given data sample is to be split into. As such,  the methodology is regularly called k-fold cross-validation. At the point when a particular  value for k is chosen, it may be used in place of k in the reference to the model, such as k=10 becoming 10-fold cross-validation.\n",
    "\n",
    "**The general procedure is as follows:**\n",
    "1. Shuffle the dataset randomly.\n",
    "2. Split the dataset into k groups\n",
    "3. For each unique group:\n",
    "        i. Take the group as a hold out or test data set\n",
    "        ii. Take the remaining groups as a training data set\n",
    "        iii.Fit a model on the training set and evaluate it on the test set\n",
    "        iv.Retain the evaluation score and discard the model\n",
    "4. Summarize the skill of the model using the sample of model evaluation scores"
   ]
  },
  {
   "cell_type": "markdown",
   "id": "b86f6563",
   "metadata": {},
   "source": [
    "### Q4. Describe the bootstrap sampling method. What is the aim of it?"
   ]
  },
  {
   "cell_type": "markdown",
   "id": "e91e542b",
   "metadata": {},
   "source": [
    "### Ans.\n",
    "\n",
    "The bootstrap method is a statistical technique for estimating quantities about a population by averaging estimates from multiple small data samples.\n",
    "\n",
    "\n",
    "**The process for building one sample can be summarized as follows:**\n",
    "\n",
    "1. Choose the size of the sample.\n",
    "2. While the size of the sample is less than the chosen size\n",
    "    - Randomly select an observation from the dataset\n",
    "    - Add it to the sample\n",
    "    \n",
    "The bootstrap method can be used to estimate a quantity of a population. This is done by repeatedly taking small samples, calculating the statistic, and taking the average of the calculated statistics. We can summarize this procedure as follows:\n",
    "\n",
    "\n",
    "1. Choose a number of bootstrap samples to perform\n",
    "2. Choose a sample size\n",
    "3. For each bootstrap sample\n",
    "    - Draw a sample with replacement with the chosen size\n",
    "    - Calculate the statistic on the sample\n",
    "4. Calculate the mean of the calculated sample statistics.\n"
   ]
  },
  {
   "cell_type": "markdown",
   "id": "5421bbd5",
   "metadata": {},
   "source": [
    "### Q5. What is the significance of calculating the Kappa value for a classification model? Demonstrate how to measure the Kappa value of a classification model using a sample collection of results."
   ]
  },
  {
   "attachments": {
    "Untitled.jpg": {
     "image/jpeg": "[encoded data removed]"
    }
   },
   "cell_type": "markdown",
   "id": "4c9a46bd",
   "metadata": {},
   "source": [
    "### Ans5.\n",
    "- The kappa value is a measure of how closely the instances classified by the machine learning classifier matched the data labeled as ground truth, controlling for the accuracy of a random classifier as measured by the expected accuracy.\n",
    "\n",
    "\n",
    "\n",
    "Formula for Kappa Value\n",
    "![Untitled.jpg](attachment:Untitled.jpg)"
   ]
  },
  {
   "cell_type": "markdown",
   "id": "d825ff8c",
   "metadata": {},
   "source": [
    "### Q6.Describe the model ensemble method. In machine learning, what part does it play?"
   ]
  },
  {
   "cell_type": "markdown",
   "id": "58892939",
   "metadata": {},
   "source": [
    "### Ans6.\n",
    "\n",
    "Ensemble learning is an approach to machine learning that find better predictive performance by combining the predictions from multiple models. \n",
    "\n",
    "The three main classes of ensemble learning methods are  \n",
    "#### 1)\n",
    "**Bagging**\n",
    "\n",
    "- Bagging involves fitting many decision trees on different samples of the same dataset and averaging the predictions.\n",
    "\n",
    "****Many popular ensemble algorithms are based on this approach, including:****\n",
    "1. Bagged Decision Trees (canonical bagging)\n",
    "2. Random Forest\n",
    "3. Extra Trees\n",
    "\n",
    "#### 2)\n",
    "**Stacking**\n",
    "\n",
    "- Stacking involves fitting many different models types on the same data and using another model to learn how to best combine the predictions.\n",
    "\n",
    "#### 3)\n",
    "**Boosting**\n",
    "\n",
    "- Boosting involves adding ensemble members sequentially that correct the predictions made by prior models and outputs a weighted average of the predictions.\n",
    "\n",
    "***Many popular ensemble algorithms are based on this approach, including:****\n",
    "\n",
    "1. AdaBoost (canonical boosting)\n",
    "2. Gradient Boosting Machines\n",
    "3. Stochastic Gradient Boosting (XGBoost and similar)\n",
    "\n",
    "\n",
    "\n"
   ]
  },
  {
   "cell_type": "markdown",
   "id": "d45ebd8d",
   "metadata": {},
   "source": [
    "### Q7.What is a descriptive model's main purpose? Give examples of real-world problems that descriptive models were used to solve.\n",
    "\n",
    "\n"
   ]
  },
  {
   "cell_type": "markdown",
   "id": "6485f264",
   "metadata": {},
   "source": [
    "### Ans.\n",
    "- Descriptive Model is summarizing the data at hand through specific numbers like mean, median etc. so as to make the understanding of the data easier.  It doesn't include any  generalization or inference beyond what is accessible. \n",
    "\n",
    "- This means that the descriptive statistics are the portrayal of the data (sample) aaccessible and not founded on any hypothesis of likelihood\n",
    "\n",
    "\n",
    "Types of Dscriptive Model:\n",
    "1. Measure of Frequncy\n",
    "    **For example**, \n",
    "        - consider a survey where 500 participants asked for their favourite IPL team. A list of 500 responses would be difficult to accommodate, but the data can be made much more access by measuring how many times a certain IPL team was selected.\n",
    "\n",
    "2. Measure of Central Tendency\n",
    "    **For example**\n",
    "        - As an example, consider a survey in which the weight of 1,000 people is measured. In this case, the average would be an excellent descriptive metric to measure mid-values.\n",
    "    \n",
    "3. Measure of Dispersion\n",
    "\n"
   ]
  },
  {
   "cell_type": "markdown",
   "id": "287cfd10",
   "metadata": {},
   "source": [
    "### Q8. Describe how to evaluate a linear regression model."
   ]
  },
  {
   "cell_type": "markdown",
   "id": "07b51412",
   "metadata": {},
   "source": [
    "### Ans.\n",
    "\n",
    "**Mean Squared Error (MSE)**\n",
    "- The most common measurement for regression tasks is MSE. It has a convex shape.  It is the normal of the squared distinction between the anticipated and actual value. Since it is differentiable and has a convex shape, it is easier to optimize.MSE penalizes large errors.\n",
    "\n",
    "\n",
    "\n",
    "**Mean Absolute Error (MAE)**\n",
    "- This is basically the average of the absolute difference between the target value and the value predicted by the model. Not liked in situations where  outliers are prominent.MAE does not penalize large errors.\n",
    "\n",
    "\n",
    "**R-squared**\n",
    "- This metric represents the part of the variance of the dependent variable explained by the independent variables of the model. It measures the strength of the relationship between your model and the dependent variable.\n",
    "\n",
    "\n",
    "**Root Mean Squared Error (RMSE)**\n",
    "- This is the square root of the average of the squared difference of the predicted and actual value.RMSE penalizes large errors.\n",
    "\n",
    "\n",
    "**Adjusted R-squared**\n",
    "- it is an altered variant of R-squared that has adjusted for the number of predictors in the model. The adjusted R-squared increases when the new term improves the model more than would be expected by chance. It decreases when a predictor improves the model by less than expected."
   ]
  },
  {
   "cell_type": "markdown",
   "id": "045998a4",
   "metadata": {},
   "source": [
    "### Q9. Distinguish :\n",
    "\n",
    "1. Descriptive vs. predictive models\n",
    "\n",
    "2. Underfitting vs. overfitting the model\n",
    "\n",
    "3. Bootstrapping vs. cross-validation\n",
    "\n"
   ]
  },
  {
   "cell_type": "markdown",
   "id": "d6740ff4",
   "metadata": {},
   "source": [
    "### Ans.9\n",
    "\n"
   ]
  },
  {
   "cell_type": "markdown",
   "id": "29e418ea",
   "metadata": {},
   "source": [
    "### 1.\n",
    "\n",
    "**Descriptive**\n",
    "- It determines, what happened in the past by analyzing stored data.\tIt determines, what can happen in the future with the help past data analysis.\n",
    "- It provides accurate data.\n",
    "- It requires data aggregation and data mining\n",
    "- Reactive approach\n",
    "- what happened?\n",
    "- where exactly is the problem?\n",
    "- what is the frequency of the problem?\n",
    "\n",
    "**Predictive**\n",
    "- It determines, what can happen in the future with the help past data analysis.\n",
    "- It produces results does not ensure accuracy.\n",
    "- It requires statistics and forecasting methods\n",
    "- Proactive approach\n",
    "- what will happen next?\n",
    "- what is the outcome if these trends continue?\n",
    "- what actions are required to be taken?"
   ]
  },
  {
   "cell_type": "markdown",
   "id": "7cd7f089",
   "metadata": {},
   "source": [
    "### 2\n",
    "\n",
    "**Overfitting:**\n",
    "- Overfitting is when your model is basically memorising the data without really understanding/interpolating a general function that would apply to any external data.\n",
    "- In other words it creates a function that is tailored specifically to the training dataset thus it would perform near perfectly with the training data, but it would perform quite badly with any data that it hasn’t seen before.\n",
    "- Overfitting – High variance and low bias .\n",
    "\n",
    "\n",
    "    ##### Techniques to reduce overfitting: \n",
    "    1. Increase training data. \n",
    "    2. Reduce model complexity. \n",
    "    3. Early stopping during the training phase (have an eye over the loss over the training period as soon as loss begins to increase stop training). \n",
    "    4. Ridge Regularization and Lasso Regularization \n",
    "    5. Use dropout for neural networks to tackle overfitting. \n",
    "\n",
    "\n",
    "**Underfitting**\n",
    "- Underfitting, is simply when you do not have enough data for the model to create/interpolate a general function that describes the process. This leads to the model performing badly for most input data.\n",
    "- Underfitting – High bias and low variance \n",
    "\n",
    "    ##### Techniques to reduce underfitting: \n",
    "    1. Increase model complexity \n",
    "    2. Increase the number of features, performing feature engineering \n",
    "    3. Remove noise from the data. \n",
    "    4. Increase the number of epochs or increase the duration of training to get better results. "
   ]
  },
  {
   "cell_type": "markdown",
   "id": "2c82c554",
   "metadata": {},
   "source": [
    "### 3\n",
    "\n",
    ".Bootstrapping vs. cross-validation\n",
    "\n",
    "**Bootstrapping**\n",
    "\n",
    "- Bootstrapping is a technique that aides in many situations like validation of a predictive model performance, ensemble methods, estimation of bias and variance of the model.\n",
    "- It works by sampling with substitution from the original data, and take the not chosen data points as test cases. We can make this multiple times and calculate the average score as estimation of our model performance.\n",
    "- Bootstrapping helps in ensemble methods as we may build a model (like a Decision tree) using each bootstrap data set.\n",
    "\n",
    "\n",
    "**Cross validation**\n",
    "- Cross validation is a technique for validating the model performance, and it’s done by split the training data into k parts. We take k-1 parts as our training set and use the “held out” part as our test set.\n",
    "\n",
    "- Cross validation can suffer bias or variance. if we increase the number of splits (k), the variance will increase and bias will decrease. On contrast, if we decrease (k), the bias will increase and variance will decrease. Generally 10-fold CV is used but of course it depends on the size of the training data"
   ]
  },
  {
   "cell_type": "markdown",
   "id": "80bef1e0",
   "metadata": {},
   "source": [
    "\n"
   ]
  },
  {
   "cell_type": "markdown",
   "id": "606d9aa6",
   "metadata": {},
   "source": [
    "### Q10.Make quick notes on:\n",
    "\n",
    "1. LOOCV.\n",
    "\n",
    "2. F-measurement\n",
    "\n",
    "3. The width of the silhouette\n",
    "\n",
    "4. Receiver operating characteristic curve\n",
    "\n",
    "\n"
   ]
  },
  {
   "cell_type": "markdown",
   "id": "1e2de1d7",
   "metadata": {},
   "source": [
    "### 1.\n",
    "**LOOCV (Leave One Out Cross Validation)**\n",
    "- In this method, we perform training on the whole data-set but leaves only one data-point of the available data-set and then iterates for each data-point. \n",
    "- An advantage of using this method is that we make use of all data points and hence it is low bias.\n"
   ]
  },
  {
   "cell_type": "markdown",
   "id": "9f37b1bf",
   "metadata": {},
   "source": [
    "### 2.\n",
    "\n",
    "Once precision and recall have been calculated for a binary or multiclass classification problem, the two scores can be combined into the calculation of the F-Measure.\n",
    "The traditional F measure is calculated as follows: \n",
    "- \n",
    "F-Measure = $(2 * Precision * Recall)$ / $(Precision + Recall)$"
   ]
  },
  {
   "cell_type": "markdown",
   "id": "0015d9b0",
   "metadata": {},
   "source": [
    "### 3.\n",
    "\n",
    "**The Silhouette algorithm**\n",
    "- it is one of the many algorithms to determine the optimal number of clusters for an unsupervised learning technique.\n",
    "- In the Silhouette algorithm, we assume that the data has already been clustered into k clusters by a clustering technique(Typically K-Means Clustering technique). Then for each data point, we define the following:-\n",
    "\n",
    "C(i) -The cluster assigned to the ith data point\n",
    "\n",
    "|C(i)| – The number of data points in the cluster assigned to the ith data point\n",
    "\n",
    "a(i) – It gives a measure of how well assigned the ith data point is to it’s cluster"
   ]
  },
  {
   "cell_type": "markdown",
   "id": "8ad06727",
   "metadata": {},
   "source": [
    "### 4.\n",
    "**ROC curve**\n",
    "- It is a graph that shows the performance of a classification model at all possible thresholds( threshold is a particular value beyond which you say a point belongs to a particular class). The curve is plotted between two parameters.\n",
    "\n",
    "   - TRUE POSITIVE RATE\n",
    "   - FALSE POSTIVIE RATE\n",
    "    \n",
    "- AUC is the entire area beneath this ROC curve\n",
    "\n",
    " \n",
    "\n",
    "\n",
    "\n",
    "        - True Positive: Actual Positive and Predicted as Positive\n",
    "        - True Negative: Actual Negative and Predicted as Negative\n",
    "        - False Positive(Type I Error): Actual Negative but predicted as Positive\n",
    "        - False Negative(Type II Error): Actual Positive but predicted as Negative"
   ]
  },
  {
   "cell_type": "markdown",
   "id": "f91632d3",
   "metadata": {},
   "source": [
    "### THE END"
   ]
  }
 ],
 "metadata": {
  "kernelspec": {
   "display_name": "Python 3",
   "language": "python",
   "name": "python3"
  },
  "language_info": {
   "codemirror_mode": {
    "name": "ipython",
    "version": 3
   },
   "file_extension": ".py",
   "mimetype": "text/x-python",
   "name": "python",
   "nbconvert_exporter": "python",
   "pygments_lexer": "ipython3",
   "version": "3.8.5"
  }
 },
 "nbformat": 4,
 "nbformat_minor": 5
}

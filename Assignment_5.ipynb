{
 "cells": [
  {
   "cell_type": "markdown",
   "id": "fb46181b",
   "metadata": {},
   "source": [
    "## ML-Assignment_5"
   ]
  },
  {
   "cell_type": "markdown",
   "id": "cb9972a9",
   "metadata": {},
   "source": [
    "### Q1.What are the key tasks that machine learning entails? What does data pre-processing imply?"
   ]
  },
  {
   "cell_type": "markdown",
   "id": "175d12ef",
   "metadata": {},
   "source": [
    "### Ans1.\n",
    "\n",
    "Key tasks that machine learning entails:\n",
    "\n",
    "1. Data Collection\n",
    " \n",
    "2. Data Preparation\n",
    " \n",
    "3. Choose a Model\n",
    " \n",
    "4. Train the Model\n",
    " \n",
    "5. Evaluate the Model\n",
    "\n",
    "6. Parameter Tuning\n",
    "\n",
    "7. Make Predictions\n",
    "\n",
    "\n",
    "****Data preprocessing is a data mining technique that involves transforming raw data into an understandable format***\n"
   ]
  },
  {
   "cell_type": "markdown",
   "id": "6a5dd004",
   "metadata": {},
   "source": [
    "### Q2. Describe quantitative and qualitative data in depth. Make a distinction between the two.\n",
    "\n"
   ]
  },
  {
   "cell_type": "markdown",
   "id": "448631dc",
   "metadata": {},
   "source": [
    "### Ans2.\n",
    "\n",
    "**Quantitative research**\n",
    "- Quantitative research is expressed in numbers and graphs. It is used to test or confirm theories and assumptions. This type of research can be used to establish generalizable facts about a topic.\n",
    "\n",
    "- Common quantitative methods include experiments, observations recorded as numbers, and surveys with closed-ended questions.\n",
    "\n",
    "\n",
    "**Qualitative research**\n",
    "- Qualitative research is expressed in words. It is used to understand concepts, thoughts or experiences. This type of research enables you to gather in-depth insights on topics that are not well understood.\n",
    "- Common qualitative methods include interviews with open-ended questions, observations described in words, and literature reviews that explore concepts and theories."
   ]
  },
  {
   "cell_type": "markdown",
   "id": "3f79ca87",
   "metadata": {},
   "source": [
    "### Q3.Create a basic data collection that includes some sample records. Have at least one attribute from each of the machine learning data types."
   ]
  },
  {
   "attachments": {
    "image-2.png": {
     "image/png": "[encoded data removed]"
    }
   },
   "cell_type": "markdown",
   "id": "3dabba05",
   "metadata": {},
   "source": [
    "### Ans3.\n",
    "\n",
    "![image-2.png](attachment:image-2.png)"
   ]
  },
  {
   "cell_type": "markdown",
   "id": "3c3382e1",
   "metadata": {},
   "source": [
    "### Q4. What are the various causes of machine learning data issues? What are the ramifications?\n",
    "\n",
    "\n",
    "\n"
   ]
  },
  {
   "cell_type": "markdown",
   "id": "7764200a",
   "metadata": {},
   "source": [
    "### Ans4.\n",
    "**Understanding Which Processes Need Automation:**\n",
    "\n",
    "- It's becoming increasingly difficult to separate fact from fiction in terms of Machine Learning today. \n",
    "\n",
    "##### Ramification\n",
    "- Before you decide on which AI platform to use, you need to evaluate which problems you’re seeking to solve.While Machine Learning can definitely help automate some processes, not all automation problems need Machine Learning.\n",
    "\n",
    "**Lack of Quality Data**\n",
    "- The number one problem facing Machine Learning is the lack of good data.Data quality is essential for the algorithms to function as intended. Noisy data, dirty data, and incomplete data are the quintessential enemies of ideal Machine Learning. \n",
    "\n",
    "##### Ramification\n",
    "- The solution to this conundrum is to take the time to evaluate and scope data with meticulous data governance, data integration, and data exploration until you get clear data. You should do this before you start."
   ]
  },
  {
   "cell_type": "markdown",
   "id": "555acd9d",
   "metadata": {},
   "source": [
    "### Q5. . Demonstrate various approaches to categorical data exploration with appropriate examples.\n",
    "\n"
   ]
  },
  {
   "cell_type": "markdown",
   "id": "bd2f17b7",
   "metadata": {},
   "source": [
    "### Ans5.\n",
    "\n",
    "There are two types of categorical data ;\n",
    "\n",
    "**Nominal Data:**\n",
    "- This is a type of data used to name variables without providing any numerical value. Coined from the Latin nomenclature “Nomen” (meaning name), this data type is a subcategory of categorical data. \n",
    "\n",
    "\n",
    "**Ordinal Data:**\n",
    "- This is a data type with a set order or scale to it. However, this order does not have a standard scale on which the difference in variables in each scale is measured. \n",
    "\n",
    "\n",
    "### Exploration of Categorical Data \n",
    "\n",
    "- Qualitativeness\n",
    "    - Categorical data is qualitative. That is, it describes an event using a string of words rather than numbers. \n",
    "\n",
    "- Analysis\n",
    "    - Categorical data is analysed using mode and median distributions, where nominal data is analysed with mode while ordinal data uses both. In some cases, ordinal data may also be analysed using univariate statistics, bivariate statistics, regression applications, linear trends and classification methods. \n",
    "\n",
    "\n",
    "- Interval scale\n",
    "    - In the case of ordinal data, which has a given order or scale, the scale does not have a standardised interval. This is not applicable for nominal data. \n",
    "\n"
   ]
  },
  {
   "cell_type": "markdown",
   "id": "cc837f92",
   "metadata": {},
   "source": [
    "### Q6. How would the learning activity be affected if certain variables have missing values? Having said that, what can be done about it?\n",
    "\n"
   ]
  },
  {
   "cell_type": "markdown",
   "id": "7bf7fea1",
   "metadata": {},
   "source": [
    "### Ans6.\n",
    "If the dataset is relatively small, every data point counts. In these situations, a missing data point means loss of valuable information. In any case, generally missing data creates imbalanced observations, cause biased estimates, and in extreme cases, can even lead to invalid conclusions.\n",
    "\n",
    "We can use techniques of handling missing values if it is there in data set"
   ]
  },
  {
   "cell_type": "markdown",
   "id": "f8d2ba8a",
   "metadata": {},
   "source": [
    "### Q7.Describe the various methods for dealing with missing data values in depth.\n",
    "\n"
   ]
  },
  {
   "cell_type": "markdown",
   "id": "5b455a4c",
   "metadata": {},
   "source": [
    "### Ans7.\n",
    "\n",
    "### All the techniques of handling ,missing values\n",
    "\n",
    "1. Mean/ Median/Mode replacement\n",
    "2. Random Sample Imputation\n",
    "3. Capturing NAN values with a new feature\n",
    "4. Arbitrary imputation\n",
    "5. Frequent categories imputation"
   ]
  },
  {
   "cell_type": "markdown",
   "id": "3ae2a9ec",
   "metadata": {},
   "source": [
    "#### 1).Advantages And Disadvantages of Mean/Median Imputation\n",
    "\n",
    "**Advantages**\n",
    "1. Easy to implement(Robust to outliers)\n",
    "2. Faster way to obtain the complete dataset\n",
    "\n",
    "**Disadvantages**\n",
    "1. Change or Distortion in the original variance\n",
    "2. Impacts Correlation\n",
    "\n",
    "\n",
    "### 2).Random sample imputation \n",
    "\n",
    "**Advantages**\n",
    "1. Easy To implement\n",
    "2. There is less distortion in variance\n",
    "\n",
    "**Disadvantages**\n",
    "1. Every situation randomness wont work.\n",
    "\n",
    "### 3). Capturing NAN values with a new feature (MNAR)\n",
    "It works well if the data are not missing completely at random\n",
    "\n",
    "**Advantages**\n",
    "\n",
    "1. Easy to implement\n",
    "2. Captures the importance of missing values\n",
    "\n",
    "**Disadvantages**\n",
    "1. Creating Additional Features(Curse of Dimensionality)\n",
    "\n",
    "### 4). Arbitrary imputation\n",
    "\n",
    "**Advantages**\n",
    "\n",
    "1. Easy to implement\n",
    "2. Captures the importance of missingess if there is one\n",
    "\n",
    "**Disadvantages**\n",
    "1. Distorts the original distribution of the variable\n",
    "2. If missingess is not important, it may mask the predictive power of the original variable by distorting its distribution\n",
    "3. Hard to decide which value to use\n",
    "\n",
    "### 5). Frequent categories imputation\n",
    "\n",
    "**Advantages**\n",
    "\n",
    "1. Easy To implement\n",
    "2. Fater way to implement\n",
    "\n",
    "**Disdvantages**\n",
    "1. Since we are using the more frequent labels, it may use them in an over represented way, if there are many nan's\n",
    "2. It distorts the relation of the most frequent label"
   ]
  },
  {
   "cell_type": "markdown",
   "id": "42d10131",
   "metadata": {},
   "source": [
    "### Q8. What are the various data pre-processing techniques? Explain dimensionality reduction and function selection in a few words."
   ]
  },
  {
   "cell_type": "markdown",
   "id": "b931cd65",
   "metadata": {},
   "source": [
    "### Ans8.\n",
    "1. Data Cleaning/Cleansing\n",
    "    - Real-world data tend to be incomplete, noisy, and inconsistent. Data Cleaning/Cleansing routines attempt to fill in missing values, smooth out noise while identifying outliers, and correct inconsistencies in the data.\n",
    "\n",
    "2. Data Integration\n",
    "    - Data Integration is involved in data analysis task which combines data from multiple sources into a coherent data store, as in data warehousing\n",
    "\n",
    "3. Data Transformation\n",
    "\n",
    "    - Data are transformed into appropriate forms of mining. Data Transformation involves the following:\n",
    "\n",
    "    - In Normalisation, where the attribute data are scaled to fall within a small specified range, such as -1.0 to 1.0, or 0 to 1.0.\n",
    "\n",
    "4. Data Reduction\n",
    "    - Data Reduction techniques are helpful in analysing the reduced representation of the data set without compromising the integrity of the original data .\n",
    "    \n",
    "    \n",
    "    \n",
    "  \n",
    "#### Dimensionality reduction\n",
    "\n",
    "- Dimensionality decrease is conventional and just relies upon the information and not on how you intend to manage it.\n",
    "\n",
    "- Assuming a classification problem you select the features that will assist you with ordering your data better, while a dimensionality reduction algorithm is unaware of this and just projects the data into a lower dimensionality space. That thus can function admirably or not for your classification algorithm.\n",
    "\n"
   ]
  },
  {
   "cell_type": "markdown",
   "id": "c3178955",
   "metadata": {},
   "source": [
    "### Q9. \n",
    "\n",
    "- i. What is the IQR? What criteria are used to assess it?\n",
    "\n",
    "- ii. Describe the various components of a box plot in detail? When will the lower whisker surpass the upper whisker in length? How can box plots be used to identify outliers?\n"
   ]
  },
  {
   "cell_type": "markdown",
   "id": "be9763aa",
   "metadata": {},
   "source": [
    "### Ans9.\n",
    "1.\n",
    "The interquartile range(IQR) shows how the data is spread about the median. It is less susceptible than the range to outliers and can, therefore, be more helpful.\n",
    "\n",
    "- Calculate Q1(first Quantile Range 25 percentile).\n",
    "- Calculate Q3(Third Quantile Range 75 percentile).\n",
    "- Difference of Q3 & Q1 gives IQR\n"
   ]
  },
  {
   "cell_type": "markdown",
   "id": "d963b973",
   "metadata": {},
   "source": [
    "2.\n",
    " - Box plots show the five-number summary of a set of data: including the minimum score, first (lower) quartile, median, third (upper) quartile, and maximum score.\n",
    " \n",
    " **Box plots be used to identify outliers?:**\n",
    "- Calculate the interquartile range for the data.\n",
    "- Multiply the interquartile range (IQR) by 1.5 (a constant used to discern outliers).\n",
    "- Add 1.5 x (IQR) to the third quartile. Any number greater than this is a suspected outlier.\n",
    "- Subtract 1.5 x (IQR) from the first quartile. Any number less than this is a suspected outlier."
   ]
  },
  {
   "cell_type": "markdown",
   "id": "7745bcf5",
   "metadata": {},
   "source": [
    "### Q10. Make brief notes on any two of the following:\n",
    "\n",
    "1. Data collected at regular intervals\n",
    "\n",
    "2. The gap between the quartiles\n",
    "\n",
    "3. Use a cross-tab\n"
   ]
  },
  {
   "cell_type": "markdown",
   "id": "0e37077c",
   "metadata": {},
   "source": [
    "### Ans10.\n",
    "\n",
    "3.\n",
    "- Cross tabulation is a strategy to quantitatively examine the connection between different variables.\n",
    "- Cross tabulation is usually performed on categorical data — data that can be divided into mutually exclusive groups.\n",
    "- Cross tabulations are used to examine relationships within data that may not be readily apparent."
   ]
  },
  {
   "cell_type": "markdown",
   "id": "352f688f",
   "metadata": {},
   "source": [
    "### Ans."
   ]
  },
  {
   "cell_type": "markdown",
   "id": "88a6f305",
   "metadata": {},
   "source": [
    "### Q11. Make brief notes on any two of the following:\n",
    "\n",
    "\n",
    "\n",
    "1. Data with nominal and ordinal values\n",
    "\n",
    "2. Histogram and box plot\n",
    "\n",
    "3. The average and median\n"
   ]
  },
  {
   "cell_type": "markdown",
   "id": "44ec7215",
   "metadata": {},
   "source": [
    "### Ans11."
   ]
  },
  {
   "cell_type": "markdown",
   "id": "3f3d580a",
   "metadata": {},
   "source": [
    "### 1.\n",
    "**Nominal values:**\n",
    "\n",
    "- These variables cannot be ordered.\n",
    "- The variables of this scale are distinct.\n",
    "- Nominal data is not quantifiable.\n",
    "\n",
    "**Ordinal values:**\n",
    "- Numbers are assigned to the variables of this scale.\n",
    "- No arithmetic calculation can be done on these variables.\n",
    "- The difference between variables cannot be calculated"
   ]
  },
  {
   "cell_type": "markdown",
   "id": "cf202a11",
   "metadata": {},
   "source": [
    "### 4 \n",
    "**Mean:**\n",
    "- The mean is the arithmetic average of a set of numbers, or distribution. It is the most commonly used measure of central tendency of a set of numbers.. \n",
    "\n",
    "- The mean is used for normal distributions.\n",
    "- The mean is not a robust tool since it is largely influenced by outliers.\n",
    "\n",
    "**Median:** \n",
    "- The median is described as the numeric value separating the higher half of a sample, a population, or a probability distribution, from the lower half.\n",
    "\n",
    "- The median is generally used for skewed distributions.\n",
    "- The median is better suited for skewed distributions to derive at central tendency since it is much more robust and sensible.\n",
    " "
   ]
  },
  {
   "cell_type": "markdown",
   "id": "488b5bc5",
   "metadata": {},
   "source": [
    "### THE END"
   ]
  }
 ],
 "metadata": {
  "kernelspec": {
   "display_name": "Python 3",
   "language": "python",
   "name": "python3"
  },
  "language_info": {
   "codemirror_mode": {
    "name": "ipython",
    "version": 3
   },
   "file_extension": ".py",
   "mimetype": "text/x-python",
   "name": "python",
   "nbconvert_exporter": "python",
   "pygments_lexer": "ipython3",
   "version": "3.8.5"
  }
 },
 "nbformat": 4,
 "nbformat_minor": 5
}

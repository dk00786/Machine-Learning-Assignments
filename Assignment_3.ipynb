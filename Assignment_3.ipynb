{
 "cells": [
  {
   "cell_type": "markdown",
   "id": "aed2ad71",
   "metadata": {},
   "source": [
    "## ML-Assignment_3"
   ]
  },
  {
   "cell_type": "markdown",
   "id": "296fba45",
   "metadata": {},
   "source": [
    "### Q1.\n",
    "Explain the term machine learning, and how does it work? Explain two machine learning applications in the business world. What are some of the ethical concerns that machine learning applications could raise?\n",
    "\n",
    "\n"
   ]
  },
  {
   "cell_type": "markdown",
   "id": "f89bf565",
   "metadata": {},
   "source": [
    "### Ans.\n",
    "Machine learning is a form of artificial intelligence (AI) that teaches computers to think in a similar way to how humans do: Learning and improving upon past experiences. It works by exploring data and identifying patterns, and involves minimal human intervention. It train the model with some training data and then once it gets perfectly created, it predicts the test data.\n",
    "\n",
    "\n"
   ]
  },
  {
   "cell_type": "markdown",
   "id": "4b4b29a4",
   "metadata": {},
   "source": [
    "### .Q2.\n",
    "\n",
    "- Describe the process of human learning:\n",
    "\n",
    "\n",
    "i. Under the supervision of experts\n",
    "\n",
    "ii. With the assistance of experts in an indirect manner\n",
    "\n",
    "iii. Self-education\n"
   ]
  },
  {
   "cell_type": "markdown",
   "id": "e4bb312f",
   "metadata": {},
   "source": [
    "### Ans."
   ]
  },
  {
   "cell_type": "markdown",
   "id": "9e7b9747",
   "metadata": {},
   "source": [
    "### Q3. Provide a few examples of various types of machine learning."
   ]
  },
  {
   "cell_type": "markdown",
   "id": "113814c3",
   "metadata": {},
   "source": [
    "### Ans 3.\n",
    "Supervised learning Examples:\n",
    "- House prices\n",
    "- Is it a cat or a dog?\n",
    "- How’s the weather today?\n",
    "- Who are the unhappy customers?\n",
    "\n",
    "Unsupervised learning Examples:\n",
    "- Finding customer segments\n",
    "- Genetics, for example clustering DNA patterns to analyze evolutionary biology.\n",
    "- Anomaly detection, including fraud detection or detecting defective mechanical parts.\n",
    "- Recommender systems, which involve grouping together users with similar viewing patterns in order to recommend similar content.\n",
    "\n",
    "\n",
    "Reinforcement learning Examples:\n",
    "\n",
    "- Robotics for industrial automation.\n",
    "- Create training systems that provide custom instruction and materials according to the requirement of students.\n",
    "- Traffic Light Control\n"
   ]
  },
  {
   "cell_type": "markdown",
   "id": "7126c783",
   "metadata": {},
   "source": [
    "### Q4. Examine the various forms of machine learning.\n",
    "\n",
    "\n",
    "\n"
   ]
  },
  {
   "cell_type": "markdown",
   "id": "f25d28d2",
   "metadata": {},
   "source": [
    "### Ans 4.\n",
    "\n",
    "Supervised learning :\n",
    "- Supervised learning is the types of machine learning in which machines are trained using well \"labelled\" training data, and on basis of that data, machines predict the output.\n",
    "\n",
    "Unsupervised learning:\n",
    "- Unsupervised learning refers to the use of artificial intelligence (AI) algorithms to identify patterns in data sets containing data points that are neither classified nor labeled. \n",
    "\n",
    "\n",
    "Reinforcement learning:\n",
    "- Reinforcement learning is an area of machine learning concerned with how intelligent agents ought to take actions in an environment in order to maximize the notion of cumulative reward."
   ]
  },
  {
   "cell_type": "markdown",
   "id": "4dc67fc2",
   "metadata": {},
   "source": [
    "### Q5.  Can you explain what a well-posed learning problem is? Explain the main characteristics that must be present to identify a learning problem properly."
   ]
  },
  {
   "cell_type": "markdown",
   "id": "6fe06713",
   "metadata": {},
   "source": [
    "### Ans 5.\n",
    "\n",
    "A (machine learning) problem is well-posed if a solution to it exists, if that solution is unique, and if that solution depends on the data / experience but it is not sensitive to (reasonably small) changes in the data / experience.\n",
    "\n",
    "Main characteristics are:\n",
    "\n",
    "1) Learning: In this data are trying to learn the pattern or relation between the independent features and depeendetn features.\n",
    "\n",
    "2) Performance: In this we check for the new unkown data what performance they give when unknow data set is passed to the machine learning model.\n",
    "\n",
    "3) Evaluation: In this we evaluate hwo good is our model"
   ]
  },
  {
   "cell_type": "markdown",
   "id": "5f2f94a8",
   "metadata": {},
   "source": [
    "### Q6. What are the various goals of machine learning? What is the relationship between these and human learning?"
   ]
  },
  {
   "cell_type": "markdown",
   "id": "d62f57fc",
   "metadata": {},
   "source": [
    "### Ans6.\n",
    "\n",
    "No it is not necessary that ML can solve all the problems with good performance.\n",
    "\n",
    "It has some limitations:\n",
    "\n",
    "1) Ethics: The most commonly discussed case currently is self-driving cars — how do we choose how the vehicle should react in the event of a fatal collision? In the future will we have to select which ethical framework we want our self-driving car to follow when we are purchasing the vehicle? If my self-driving car kills someone on the road, whose fault is it?\n",
    "\n",
    "2) Deterministic Problems: Machine learning is stochastic, not deterministic.\n",
    "\n",
    "3) Data: This is the most obvious limitation. If you feed a model poorly, then it will only give you poor results. This can manifest itself in two ways: lack of data, and lack of good data."
   ]
  },
  {
   "cell_type": "markdown",
   "id": "8eee2109",
   "metadata": {},
   "source": [
    "### Q7. What are the various methods and technologies for solving machine learning problems? Any two of them should be defined in detail.\n"
   ]
  },
  {
   "cell_type": "markdown",
   "id": "5ff8c87a",
   "metadata": {},
   "source": [
    "### Ans7.\n",
    "\n",
    "1. Regression\n",
    "2. Classification\n",
    "3. Clustering\n",
    "4. Dimensionality Reduction\n",
    "5. Ensemble Methods\n",
    "6. Neural Nets and Deep Learning\n",
    "7. Transfer Learning\n",
    "8. Reinforcement Learning\n",
    "9. Natural Language Processing\n",
    "10. Word Embeddings\n",
    "\n",
    "\n",
    "\n",
    "Regression \n",
    "- Regression methods fall within the category of supervised ML. They help to predict or explain a particular numerical value based on a set of prior data, for example predicting the price of a property based on previous pricing data for similar properties.\n",
    "\n",
    "Classification\n",
    "- Classification methods predict or explain a class value. For example, they can help predict whether or not an online customer will buy a product. The output can be yes or no"
   ]
  },
  {
   "cell_type": "markdown",
   "id": "9db10830",
   "metadata": {},
   "source": [
    "### Q8.. Can you explain the various forms of supervised learning? Explain each one with an example application."
   ]
  },
  {
   "cell_type": "markdown",
   "id": "13d4ffa3",
   "metadata": {},
   "source": [
    "### Ans8.\n",
    "\n",
    "\n",
    "**Regression**\n",
    "- In regression, a single output value is produced using training data. This value is a probabilistic interpretation, which is ascertained after considering the strength of correlation among the input variables. For example, regression can help predict the price of a house based on its locality, size, etc. \n",
    "\n",
    "- In logistic regression, the output has discrete values based on a set of independent variables. This method can flounder when dealing with non-linear and multiple decision boundaries. Also, it is not flexible enough to capture complex relationships in datasets. \n",
    "\n",
    "**Classification**\n",
    "- It involves grouping the data into classes.  If you are thinking of extending credit to a person, you can use classification to determine whether or not a person would be a loan defaulter. When the supervised learning algorithm labels input data into two distinct classes, it is called binary classification. Multiple classifications means categorizing data into more than two classes.\n",
    "\n",
    "**Naive Bayesian Model**\n",
    "- The Bayesian model of classification is used for large finite datasets. It is a method of assigning class labels using a direct acyclic graph. The graph comprises one parent node and multiple children nodes. And each child node is assumed to be independent and separate from the parent. \n",
    "\n",
    "\n",
    "**Random Forest Model**\n",
    "- The random forest model is an ensemble method. It operates by constructing a multitude of decision trees and outputs a classification of the individual trees. Suppose you want to predict which undergraduate students will perform well in GMAT – a test taken for admission into graduate management programs. A random forest model would accomplish the task, given the demographic and educational factors of a set of students who have previously taken the test. \n",
    "\n",
    "**Neural Networks**\n",
    "- This algorithm is designed to cluster raw input, recognize patterns, or interpret sensory data. Despite their multiple advantages, neural networks require significant computational resources. It can get complicated to fit a neural network when there are thousands of observations. It is also called the ‘black-box’ algorithm as interpreting the logic behind their predictions can be challenging. \n",
    "\n",
    "**Support Vector Machines**\n",
    "- Support Vector Machine (SVM) is a supervised learning algorithm developed in the year 1990. It draws from the statistical learning theory developed by Vap Nick. \n",
    "\n",
    "- SVM separates hyperplanes, which makes it a discriminative classifier. The output is produced in the form of an optimal hyperplane that categorizes new examples. SVMs are closely connected to the kernel framework and used in diverse fields. Some examples include bioinformatics, pattern recognition, and multimedia information retrieval.\n",
    "\n",
    "\n",
    "**Decision Trees**\n",
    "\n",
    "- A decision tree is a flowchart-like model that contains conditional control statements, comprising decisions and their probable consequences. The output relates to the labelling of unforeseen data. \n",
    "\n",
    "- In the tree representation, the leaf nodes correspond to class labels, and the internal nodes represent the attributes. A decision tree can be used to solve problems with discrete attributes as well as boolean functions. Some of the notable decision tree algorithms are ID3 and CART."
   ]
  },
  {
   "cell_type": "markdown",
   "id": "69e33b95",
   "metadata": {},
   "source": [
    "### Q9. What is the difference between supervised and unsupervised learning? With a sample application in each region, explain the differences."
   ]
  },
  {
   "cell_type": "markdown",
   "id": "cb15741a",
   "metadata": {},
   "source": [
    "### Ans9.\n",
    "\n",
    "\n",
    "### SUPERVISED LEARNING\n",
    "\n",
    "**Input Data**\n",
    "- Uses Known and Labeled Data as input\n",
    "\n",
    "**Computational Complexity**\n",
    "- Very Complex\n",
    "\n",
    "**Real Time**\n",
    "- Uses off-line analysis\n",
    "\n",
    "**Number of Classes**\n",
    "- Number of Classes are known\n",
    "\n",
    "**Accuracy of Results**\n",
    "- Accurate and Reliable Results\n",
    "\n",
    "\n",
    "### UNSUPERVISED LEARNING\n",
    "\n",
    "**Input Data**\n",
    "- Uses Unknown Data as input\n",
    "\n",
    "**Computational Complexity**\n",
    "- Less Computational Complexity\n",
    "\n",
    "**Real Time**\n",
    "- Uses Real Time Analysis of Data\n",
    "\n",
    "**Number of Classes**\n",
    "- Number of Classes are not known\n",
    "\n",
    "**Accuracy of Results**\n",
    "- Moderate Accurate and Reliable Results\n"
   ]
  },
  {
   "cell_type": "markdown",
   "id": "922f5c1a",
   "metadata": {},
   "source": [
    "### Q10.\n",
    "Describe the machine learning process in depth.\n",
    "\n",
    "a. Make brief notes on any two of the following:\n",
    "\n",
    "i.MATLAB is one of the most widely used programming languages.\n",
    "\n",
    "ii. Deep learning applications in healthcare\n",
    "\n",
    "iii. Study of the market basket\n",
    "\n",
    "iv. Linear regression (simple)\n"
   ]
  },
  {
   "cell_type": "markdown",
   "id": "09587043",
   "metadata": {},
   "source": [
    "### Ans10.\n",
    "\n",
    "### DEEP LEARNING IN HEALTHCARE\n",
    "\n",
    "1. Drug discovery\n",
    "Deep learning in healthcare helps in discovery of medicines and their development. The technology analyzes the patient's medical history and provides the best treatment for them. Moreover, this technology is gaining insights from patient symptoms and tests.\n",
    "\n",
    "2. Medical imaging\n",
    "Medical imaging techniques such as MRI scans, CT scans, ECG, are used to diagnose dreadful diseases such as heart disease, cancer, brain tumor. Hence, deep learning helps doctors to analyze the disease better and provide patients with the best treatment.\n",
    "\n",
    "3. Insurance fraud\n",
    "Deep learning is used to analyze the medical insurance fraud claims. With predictive analytics, it can predict fraud claims that are likely to happen in the future. Moreover, deep learning helps insurance industry to send out discounts and offers to their target patients.\n",
    "\n",
    "4. Alzheimer's disease\n",
    "Alzheimer is one of the significant challenges that medical industry faces. Deep learning technique is used to detect Alzheimer’s disease at an early stage.\n"
   ]
  },
  {
   "attachments": {
    "simple-linear-regression-formula.png": {
     "image/png": "[encoded data removed]"
    }
   },
   "cell_type": "markdown",
   "id": "ae94fd06",
   "metadata": {},
   "source": [
    "### Simple linear regression\n",
    "\n",
    "Simple linear regression is used to estimate the relationship between two quantitative variables. You can use simple linear regression when you want to know:\n",
    "\n",
    "How strong the relationship is between two variables (e.g. the relationship between rainfall and soil erosion).\n",
    "The value of the dependent variable at a certain value of the independent variable (e.g. the amount of soil erosion at a certain level of rainfall).\n",
    "\n",
    "\n",
    "![simple-linear-regression-formula.png](attachment:simple-linear-regression-formula.png)"
   ]
  },
  {
   "cell_type": "markdown",
   "id": "1b7b1f48",
   "metadata": {},
   "source": [
    "### Q11.Make a comparison between:-\n",
    "\n",
    "1. Generalization and abstraction\n",
    "\n",
    "2. Learning that is guided and unsupervised\n",
    "\n",
    "3. Regression and classification\n"
   ]
  },
  {
   "cell_type": "markdown",
   "id": "59dc957c",
   "metadata": {},
   "source": [
    "### Ans11."
   ]
  },
  {
   "cell_type": "markdown",
   "id": "7bb15ab9",
   "metadata": {},
   "source": [
    "1\n",
    "**Generalization**\n",
    "- Itreduces complexity by replacing multiple entities which perform similar functions with a single construct.\n",
    "\n",
    "**Abstraction** \n",
    "- Itreduces complexity by hiding irrelevant detail\n",
    "\n"
   ]
  },
  {
   "cell_type": "markdown",
   "id": "53e9ce85",
   "metadata": {},
   "source": [
    "3.\n",
    "### Regression:\n",
    "- Regression is a process of finding the correlations between dependent and independent variables. It helps in predicting the continuous variables such as prediction of Market Trends, prediction of House prices, etc.\n",
    "\n",
    "\n",
    "**Types of Regression**\n",
    "\n",
    "- Simple Linear Regression\n",
    "- Multiple Linear Regression\n",
    "- Polynomial Regression\n",
    "- Support Vector Regression\n",
    "- Decision Tree Regression\n",
    "- Random Forest Regression"
   ]
  },
  {
   "cell_type": "markdown",
   "id": "ef3de4e5",
   "metadata": {},
   "source": [
    "### Classification:\n",
    "Classification is a process of finding a function which helps in dividing the dataset into classes based on different parameters. In Classification, a computer program is trained on the training dataset and based on that training, it categorizes the data into different classes.\n",
    "\n",
    "\n",
    "Types of Classification\n",
    "\n",
    "- Logistic Regression\n",
    "- K-Nearest Neighbours\n",
    "- Support Vector Machines\n",
    "- Kernel SVM\n",
    "- Naïve Bayes\n",
    "- Decision Tree Classification\n",
    "- Random Forest Classification"
   ]
  },
  {
   "cell_type": "code",
   "execution_count": null,
   "id": "d60b1541",
   "metadata": {},
   "outputs": [],
   "source": []
  }
 ],
 "metadata": {
  "kernelspec": {
   "display_name": "Python 3",
   "language": "python",
   "name": "python3"
  },
  "language_info": {
   "codemirror_mode": {
    "name": "ipython",
    "version": 3
   },
   "file_extension": ".py",
   "mimetype": "text/x-python",
   "name": "python",
   "nbconvert_exporter": "python",
   "pygments_lexer": "ipython3",
   "version": "3.8.5"
  }
 },
 "nbformat": 4,
 "nbformat_minor": 5
}
